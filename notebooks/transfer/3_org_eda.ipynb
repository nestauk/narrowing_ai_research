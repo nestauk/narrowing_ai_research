{
 "cells": [
  {
   "cell_type": "markdown",
   "metadata": {},
   "source": [
    "# Organisation exploration\n",
    "\n",
    "Here we explore the organisation data:\n",
    "\n",
    "* What are the top commercial organisations in AI research\n",
    "* How has their activity evolved in recent years\n",
    "* In what topics do they focus\n"
   ]
  },
  {
   "cell_type": "markdown",
   "metadata": {},
   "source": [
    "## Preamble"
   ]
  },
  {
   "cell_type": "code",
   "execution_count": null,
   "metadata": {},
   "outputs": [],
   "source": [
    "%run ../notebook_preamble.ipy\n",
    "\n",
    "import altair as alt\n",
    "from toolz import pipe\n",
    "from narrowing_ai_research.paper.s3_org_eda import *\n",
    "from narrowing_ai_research.utils.read_utils import read_papers,read_papers_orgs\n",
    "from narrowing_ai_research.utils.list_utils import *\n",
    "from narrowing_ai_research.utils.altair_utils import *\n",
    "\n",
    "pd.options.mode.chained_assignment = None \n",
    "%config Completer.use_jedi = False"
   ]
  },
  {
   "cell_type": "code",
   "execution_count": null,
   "metadata": {},
   "outputs": [],
   "source": [
    "# Run this if you want to save charts\n",
    "# driv = altair_visualisation_setup()"
   ]
  },
  {
   "cell_type": "markdown",
   "metadata": {},
   "source": [
    "## Read data"
   ]
  },
  {
   "cell_type": "code",
   "execution_count": null,
   "metadata": {},
   "outputs": [],
   "source": [
    "papers,paper_orgs  = read_process_data()"
   ]
  },
  {
   "cell_type": "code",
   "execution_count": null,
   "metadata": {},
   "outputs": [],
   "source": [
    "porgs = paper_orgs_processing(paper_orgs,papers)"
   ]
  },
  {
   "cell_type": "markdown",
   "metadata": {},
   "source": [
    "## Analysis"
   ]
  },
  {
   "cell_type": "code",
   "execution_count": null,
   "metadata": {},
   "outputs": [],
   "source": [
    "# Type comparison\n",
    "comp = make_chart_type_comparison(porgs,save=False)\n",
    "comp"
   ]
  },
  {
   "cell_type": "code",
   "execution_count": null,
   "metadata": {},
   "outputs": [],
   "source": [
    "# Type evol\n",
    "type_evol = make_chart_type_evol(porgs,save=False)\n",
    "type_evol"
   ]
  },
  {
   "cell_type": "code",
   "execution_count": null,
   "metadata": {},
   "outputs": [],
   "source": [
    "# Activity by company\n",
    "\n",
    "alt.data_transformers.disable_max_rows()\n",
    "comp_trends = make_chart_company_activity(porgs,papers,save=False)\n",
    "comp_trends"
   ]
  },
  {
   "cell_type": "code",
   "execution_count": null,
   "metadata": {},
   "outputs": [],
   "source": []
  }
 ],
 "metadata": {
  "language_info": {
   "name": "python",
   "pygments_lexer": "ipython3"
  }
 },
 "nbformat": 4,
 "nbformat_minor": 4
}
