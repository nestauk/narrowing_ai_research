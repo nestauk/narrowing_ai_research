{
 "cells": [
  {
   "cell_type": "markdown",
   "metadata": {},
   "source": [
    "# Organisation exploration\n",
    "\n",
    "Here we analyse the topic specialisation profiles of different organisations\n"
   ]
  },
  {
   "cell_type": "markdown",
   "metadata": {},
   "source": [
    "## Preamble"
   ]
  },
  {
   "cell_type": "code",
   "execution_count": null,
   "metadata": {},
   "outputs": [],
   "source": [
    "%run ../notebook_preamble.ipy\n",
    "\n",
    "import altair as alt\n",
    "import yaml\n",
    "from narrowing_ai_research.utils.altair_utils import *\n",
    "from narrowing_ai_research.paper.s9_topic_comparison import *\n",
    "\n",
    "pd.options.mode.chained_assignment = None \n",
    "%config Completer.use_jedi = False"
   ]
  },
  {
   "cell_type": "code",
   "execution_count": null,
   "metadata": {},
   "outputs": [],
   "source": [
    "# Run this if you want to save charts\n",
    "# driv = altair_visualisation_setup()"
   ]
  },
  {
   "cell_type": "markdown",
   "metadata": {},
   "source": [
    "### Read data"
   ]
  },
  {
   "cell_type": "code",
   "execution_count": null,
   "metadata": {},
   "outputs": [],
   "source": [
    "papers,porgs,topic_mix,topic_category_map,arxiv_cat_lookup,topic_list = read_process_data()"
   ]
  },
  {
   "cell_type": "markdown",
   "metadata": {},
   "source": [
    "### Create comparison"
   ]
  },
  {
   "cell_type": "code",
   "execution_count": null,
   "metadata": {},
   "outputs": [],
   "source": [
    "with open(f\"{project_dir}/paper_config.yaml\", \"r\") as infile:\n",
    "        pars = yaml.safe_load(infile)[\"section_9\"]\n",
    "        \n",
    "cats = pars['categories']\n",
    "labels_to_display = pars['topic_highlights']"
   ]
  },
  {
   "cell_type": "code",
   "execution_count": null,
   "metadata": {},
   "outputs": [],
   "source": [
    "comp_ids,acad_ids = [query_orgs(porgs,\n",
    "                                'org_type',t) for t in ['Company','Education']]"
   ]
  },
  {
   "cell_type": "code",
   "execution_count": null,
   "metadata": {},
   "outputs": [],
   "source": [
    "topic_comparison_chart,comp_table = make_chart_topic_comparison(\n",
    "    topic_mix,arxiv_cat_lookup,[comp_ids,acad_ids],cats,['company','academia'],\n",
    "    highlights=True,highlight_topics=labels_to_display,topic_list=topic_list,topic_category_map=topic_category_map,\n",
    "save=False)"
   ]
  },
  {
   "cell_type": "code",
   "execution_count": null,
   "metadata": {},
   "outputs": [],
   "source": [
    "topic_comparison_chart"
   ]
  },
  {
   "cell_type": "code",
   "execution_count": null,
   "metadata": {},
   "outputs": [],
   "source": []
  }
 ],
 "metadata": {
  "language_info": {
   "name": "python",
   "pygments_lexer": "ipython3"
  }
 },
 "nbformat": 4,
 "nbformat_minor": 4
}
