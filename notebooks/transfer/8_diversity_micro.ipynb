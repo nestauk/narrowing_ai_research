{
 "cells": [
  {
   "cell_type": "markdown",
   "metadata": {},
   "source": [
    "# Diversity micro\n",
    "\n",
    "Modelling diversity at the organisational level"
   ]
  },
  {
   "cell_type": "markdown",
   "metadata": {},
   "source": [
    "## Preamble"
   ]
  },
  {
   "cell_type": "code",
   "execution_count": null,
   "metadata": {},
   "outputs": [],
   "source": [
    "%run ../notebook_preamble.ipy\n",
    "%config Completer.use_jedi = False\n",
    "\n",
    "\n",
    "pd.options.mode.chained_assignment = None "
   ]
  },
  {
   "cell_type": "code",
   "execution_count": null,
   "metadata": {},
   "outputs": [],
   "source": [
    "# Uncomment and run if you want to save figures\n",
    "# driv = altair_visualisation_setup()"
   ]
  },
  {
   "cell_type": "code",
   "execution_count": null,
   "metadata": {},
   "outputs": [],
   "source": [
    "import altair as alt\n",
    "import random\n",
    "import logging\n",
    "import yaml\n",
    "from statsmodels.api import OLS, Logit\n",
    "from statsmodels.tools.tools import add_constant\n",
    "from scipy.stats import zscore\n",
    "\n",
    "from narrowing_ai_research.utils.read_utils import read_papers_orgs\n",
    "from narrowing_ai_research.paper.s3_org_eda import paper_orgs_processing\n",
    "from narrowing_ai_research.paper.s8_diversity_micro import *\n",
    "\n",
    "from narrowing_ai_research.utils.read_utils import (\n",
    "    read_papers,\n",
    "    read_papers_orgs,)\n",
    "\n",
    "pd.options.mode.chained_assignment = None  # default='warn'\n",
    "alt.data_transformers.disable_max_rows()"
   ]
  },
  {
   "cell_type": "markdown",
   "metadata": {},
   "source": [
    "## Read Data"
   ]
  },
  {
   "cell_type": "code",
   "execution_count": null,
   "metadata": {},
   "outputs": [],
   "source": [
    "papers, papers_orgs, org_diversity = read_process_data()"
   ]
  },
  {
   "cell_type": "code",
   "execution_count": null,
   "metadata": {},
   "outputs": [],
   "source": [
    "reg_df, org_name_type_lookup, paper_counts_all = make_regression_dataset(papers_orgs,org_diversity)"
   ]
  },
  {
   "cell_type": "markdown",
   "metadata": {},
   "source": [
    "## Analyse data"
   ]
  },
  {
   "cell_type": "code",
   "execution_count": null,
   "metadata": {},
   "outputs": [],
   "source": [
    "# Fit regression\n",
    "reg = fit_regression(reg_df)"
   ]
  },
  {
   "cell_type": "code",
   "execution_count": null,
   "metadata": {},
   "outputs": [],
   "source": [
    "# Make regression table\n",
    "tab,org_coeffs = make_regression_table(reg,set(reg_df[\"category\"]),save=False)\n",
    "\n",
    "tab"
   ]
  },
  {
   "cell_type": "markdown",
   "metadata": {},
   "source": [
    "### Visualise org diversity"
   ]
  },
  {
   "cell_type": "code",
   "execution_count": null,
   "metadata": {},
   "outputs": [],
   "source": [
    "make_chart_organisational_diversity(org_coeffs,60,'rao_stirling_2',\n",
    "                                    org_name_type_lookup,\n",
    "                                    paper_counts_all,save=False)"
   ]
  },
  {
   "cell_type": "code",
   "execution_count": null,
   "metadata": {},
   "outputs": [],
   "source": []
  }
 ],
 "metadata": {
  "language_info": {
   "name": "python",
   "pygments_lexer": "ipython3"
  }
 },
 "nbformat": 4,
 "nbformat_minor": 4
}
