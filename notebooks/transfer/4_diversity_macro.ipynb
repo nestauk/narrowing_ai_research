{
 "cells": [
  {
   "cell_type": "markdown",
   "metadata": {},
   "source": [
    "# Diversity macro analysis\n",
    "\n",
    "We track the evolution of diversity with various parametres and explore its\n",
    "potential drivers"
   ]
  },
  {
   "cell_type": "markdown",
   "metadata": {},
   "source": [
    "## Preamble"
   ]
  },
  {
   "cell_type": "code",
   "execution_count": null,
   "metadata": {},
   "outputs": [],
   "source": [
    "%run ../notebook_preamble.ipy\n",
    "%config Completer.use_jedi = False\n",
    "\n",
    "\n",
    "pd.options.mode.chained_assignment = None "
   ]
  },
  {
   "cell_type": "code",
   "execution_count": null,
   "metadata": {},
   "outputs": [],
   "source": [
    "# Uncomment and run if you want to save figures\n",
    "# driv = altair_visualisation_setup()"
   ]
  },
  {
   "cell_type": "code",
   "execution_count": null,
   "metadata": {},
   "outputs": [],
   "source": [
    "import altair as alt\n",
    "import random\n",
    "import logging\n",
    "import networkx as nx\n",
    "import yaml\n",
    "\n",
    "from narrowing_ai_research.utils.list_utils import *\n",
    "from narrowing_ai_research.utils.altair_utils import *\n",
    "from narrowing_ai_research.transformers.networks import *\n",
    "from narrowing_ai_research.paper.s4_diversity_macro import *\n",
    "from narrowing_ai_research.utils.read_utils import *\n",
    "from narrowing_ai_research.paper.s3_org_eda import create_paper_dates_dict, paper_orgs_processing\n",
    "from narrowing_ai_research.transformers.diversity import Diversity\n",
    "\n",
    "alt.data_transformers.disable_max_rows()"
   ]
  },
  {
   "cell_type": "markdown",
   "metadata": {},
   "source": [
    "## Read data"
   ]
  },
  {
   "cell_type": "markdown",
   "metadata": {},
   "source": [
    "### Metadata"
   ]
  },
  {
   "cell_type": "code",
   "execution_count": null,
   "metadata": {},
   "outputs": [],
   "source": [
    "with open(f\"{project_dir}/paper_config.yaml\",'r') as infile:\n",
    "    div_params = yaml.safe_load(infile)['section_4']['div_params']"
   ]
  },
  {
   "cell_type": "markdown",
   "metadata": {},
   "source": [
    "### Data"
   ]
  },
  {
   "cell_type": "code",
   "execution_count": null,
   "metadata": {},
   "outputs": [],
   "source": [
    "papers, topic_mix = read_process_data()"
   ]
  },
  {
   "cell_type": "markdown",
   "metadata": {},
   "source": [
    "### Historical analysis"
   ]
  },
  {
   "cell_type": "code",
   "execution_count": null,
   "metadata": {},
   "outputs": [],
   "source": [
    "# Create lookups between years and papers\n",
    "year_ids = papers.loc[papers['is_ai']==True].groupby('year')['article_id'].apply(lambda x: set(x))"
   ]
  },
  {
   "cell_type": "code",
   "execution_count": null,
   "metadata": {},
   "outputs": [],
   "source": [
    "yearly_diversity_norm = year_diversity_results(topic_mix,\n",
    "                                               year_ids,\n",
    "                                               div_params)"
   ]
  },
  {
   "cell_type": "code",
   "execution_count": null,
   "metadata": {},
   "outputs": [],
   "source": [
    "make_chart_diversity_evol(yearly_diversity_norm,save=False)"
   ]
  },
  {
   "cell_type": "markdown",
   "metadata": {},
   "source": [
    "#### Interpreting measures of diversity"
   ]
  },
  {
   "cell_type": "markdown",
   "metadata": {},
   "source": [
    "##### Balance and Stirling Rao\n",
    "\n",
    "What is the share of topical activity accounted by topics in different positions of the distribution?\n",
    "\n",
    "What is their mean distance to the other topics?"
   ]
  },
  {
   "cell_type": "code",
   "execution_count": null,
   "metadata": {},
   "outputs": [],
   "source": [
    "shares_long, centrality_ranked_all = extract_distribution_centrality(topic_mix,year_ids) "
   ]
  },
  {
   "cell_type": "code",
   "execution_count": null,
   "metadata": {},
   "outputs": [],
   "source": [
    "make_chart_distribution_centrality(shares_long,centrality_ranked_all,saving=False)"
   ]
  },
  {
   "cell_type": "code",
   "execution_count": null,
   "metadata": {},
   "outputs": [],
   "source": []
  }
 ],
 "metadata": {
  "language_info": {
   "name": "python",
   "pygments_lexer": "ipython3"
  }
 },
 "nbformat": 4,
 "nbformat_minor": 4
}
