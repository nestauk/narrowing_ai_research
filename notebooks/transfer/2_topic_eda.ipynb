{
 "cells": [
  {
   "cell_type": "markdown",
   "metadata": {},
   "source": [
    "# Topic Classification and EDA\n",
    "\n",
    "Here we explore the outputs of our topic model.\n",
    "\n",
    "We:\n",
    "\n",
    "* Identify the arXiv categories that topics are related to\n",
    "* Explore their evolution\n",
    "* Provide functions to chart the evolution of ad hoc topic groupings\n",
    "* Output a topic - category mapping and table with example topics by category"
   ]
  },
  {
   "cell_type": "markdown",
   "metadata": {},
   "source": [
    "## Preamble"
   ]
  },
  {
   "cell_type": "code",
   "execution_count": null,
   "metadata": {},
   "outputs": [],
   "source": [
    "%run ../notebook_preamble.ipy\n",
    "\n",
    "from itertools import combinations, product, chain\n",
    "from narrowing_ai_research.utils.altair_utils import *\n",
    "from narrowing_ai_research.paper.s2_topic_classification_eda import *\n",
    "import random\n",
    "import altair as alt\n",
    "\n",
    "%config Completer.use_jedi = False"
   ]
  },
  {
   "cell_type": "code",
   "execution_count": null,
   "metadata": {},
   "outputs": [],
   "source": [
    "# Run this if you want to save charts\n",
    "# driv = altair_visualisation_setup()"
   ]
  },
  {
   "cell_type": "markdown",
   "metadata": {},
   "source": [
    "## Load data"
   ]
  },
  {
   "cell_type": "code",
   "execution_count": null,
   "metadata": {},
   "outputs": [],
   "source": [
    "papers,topic_mix,topic_long,cats,cat_sets,one_cat_ids,arxiv_cat_lookup = read_process_data()"
   ]
  },
  {
   "cell_type": "markdown",
   "metadata": {},
   "source": [
    "## Analysis"
   ]
  },
  {
   "cell_type": "markdown",
   "metadata": {},
   "source": [
    "### Calculate topic salience in different categories"
   ]
  },
  {
   "cell_type": "code",
   "execution_count": null,
   "metadata": {},
   "outputs": [],
   "source": [
    "topic_rca = make_topic_cat_specialisation(topic_mix,cat_sets,one_cat_ids)"
   ]
  },
  {
   "cell_type": "code",
   "execution_count": null,
   "metadata": {},
   "outputs": [],
   "source": [
    "topic_spec_chart = make_chart_topic_spec(topic_rca,topic_mix,arxiv_cat_lookup)"
   ]
  },
  {
   "cell_type": "code",
   "execution_count": null,
   "metadata": {},
   "outputs": [],
   "source": [
    "# Visualise\n",
    "topic_spec_chart"
   ]
  },
  {
   "cell_type": "code",
   "execution_count": null,
   "metadata": {},
   "outputs": [],
   "source": [
    "# Map topics vs categories\n",
    "topic_category_map = extract_topics(topic_rca,1.2)"
   ]
  },
  {
   "cell_type": "markdown",
   "metadata": {},
   "source": [
    "### Visualise topic trends (by associated category)"
   ]
  },
  {
   "cell_type": "code",
   "execution_count": null,
   "metadata": {},
   "outputs": [],
   "source": [
    "topic_trends = extract_topic_trends(topic_long,topic_category_map,topic_value=0.1,window=15)"
   ]
  },
  {
   "cell_type": "code",
   "execution_count": null,
   "metadata": {},
   "outputs": [],
   "source": [
    "make_chart_topic_trends(topic_trends,arxiv_cat_lookup,save=False,year_sort=2006)"
   ]
  },
  {
   "cell_type": "markdown",
   "metadata": {},
   "source": [
    "### Visualise microtrends"
   ]
  },
  {
   "cell_type": "code",
   "execution_count": null,
   "metadata": {},
   "outputs": [],
   "source": [
    "p = ['privacy_private_differential_privacy_differentially_private_privacy_preserving',\n",
    "     'federated_learning_server_clients_client_federated']\n",
    "\n",
    "e = ['law_society_legal_ethical_stakeholders','bias_biases_biased_exposure_gender',]\n",
    "\n",
    "i = ['explanations_explanation_trust_explaining_explainable',\n",
    "     'interpretation_explain_interpret_interpreted_explained']\n",
    "\n",
    "ex_trends = pd.concat(\n",
    "    [micro_trends(papers,topic_mix,cats,threshold=0.05,name=n)[f'{n}_share'] for cats,n in zip([p,e,i],['privacy','ethics','explainability'])],axis=1)\n",
    "    "
   ]
  },
  {
   "cell_type": "code",
   "execution_count": null,
   "metadata": {},
   "outputs": [],
   "source": [
    "plot_microtrends(ex_trends)"
   ]
  }
 ],
 "metadata": {
  "language_info": {
   "name": "python",
   "pygments_lexer": "ipython3"
  }
 },
 "nbformat": 4,
 "nbformat_minor": 4
}
