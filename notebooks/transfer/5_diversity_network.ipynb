{
 "cells": [
  {
   "cell_type": "markdown",
   "metadata": {},
   "source": [
    "# Network view of diversity\n",
    "\n",
    "Here we explore relations between topics in the co-occurrence network"
   ]
  },
  {
   "cell_type": "markdown",
   "metadata": {},
   "source": [
    "## Preamble"
   ]
  },
  {
   "cell_type": "code",
   "execution_count": null,
   "metadata": {},
   "outputs": [],
   "source": [
    "%run ../notebook_preamble.ipy\n",
    "%config Completer.use_jedi = False\n",
    "\n",
    "\n",
    "pd.options.mode.chained_assignment = None "
   ]
  },
  {
   "cell_type": "code",
   "execution_count": null,
   "metadata": {},
   "outputs": [],
   "source": [
    "import altair as alt\n",
    "import networkx as nx\n",
    "import community\n",
    "import matplotlib\n",
    "from matplotlib import cm\n",
    "from scipy.stats import entropy\n",
    "import matplotlib.patches as mpatches\n",
    "\n",
    "from narrowing_ai_research.paper.s5_network_view import read_process_data\n",
    "from narrowing_ai_research.utils.read_utils import read_papers, read_topic_mix, read_topic_category_map,read_arxiv_cat_lookup\n",
    "from narrowing_ai_research.transformers.networks import *\n",
    "from narrowing_ai_research.transformers.diversity import Diversity\n",
    "\n",
    "matplotlib.rcParams['font.sans-serif'] = \"Arial\""
   ]
  },
  {
   "cell_type": "markdown",
   "metadata": {},
   "source": [
    "## Read data"
   ]
  },
  {
   "cell_type": "code",
   "execution_count": null,
   "metadata": {},
   "outputs": [],
   "source": [
    "papers, topic_mix,topic_category_map,arxiv_cat_lookup = read_process_data()"
   ]
  },
  {
   "cell_type": "markdown",
   "metadata": {},
   "source": [
    "## Analysis"
   ]
  },
  {
   "cell_type": "code",
   "execution_count": null,
   "metadata": {},
   "outputs": [],
   "source": [
    "# Extract networks and degree distributions\n",
    "net_1,size_1 = make_co_network(papers,topic_mix,topic_category_map,np.arange(2013,2017),\n",
    "                              threshold=0.1)\n",
    "\n",
    "net_2,size_2 = make_co_network(papers,topic_mix,topic_category_map,np.arange(2019,2021),\n",
    "                              threshold=0.1)"
   ]
  },
  {
   "cell_type": "code",
   "execution_count": null,
   "metadata": {},
   "outputs": [],
   "source": [
    "# Visualise network colouring some selected categories\n",
    "my_cats = ['cs.CV','cs.NE','cs.CL','cs.CR','cs.LG','stat.ML','cs.AI']\n",
    "\n",
    "plot_comp_network([net_1,net_2],[size_1,size_2],\n",
    "                  my_cats,arxiv_cat_lookup,topic_category_map)\n",
    "\n",
    "plt.tight_layout()"
   ]
  },
  {
   "cell_type": "code",
   "execution_count": null,
   "metadata": {},
   "outputs": [],
   "source": [
    "# Calculate network statistics\n",
    "dists = pd.DataFrame([network_distance_stats(net_1,'Network 2013-2016'),\n",
    "              network_distance_stats(net_2,'Network 2019-2020')])\n",
    "\n",
    "dists\n",
    "#dists.to_latex(f'{project_dir}/reports/tables/network_metrics.tex')"
   ]
  }
 ],
 "metadata": {
  "language_info": {
   "name": "python",
   "pygments_lexer": "ipython3"
  }
 },
 "nbformat": 4,
 "nbformat_minor": 4
}
