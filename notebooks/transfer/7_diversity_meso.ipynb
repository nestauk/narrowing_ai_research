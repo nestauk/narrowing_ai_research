{
 "cells": [
  {
   "cell_type": "markdown",
   "metadata": {},
   "source": [
    "# Diversity meso\n",
    "\n",
    "Compare the thematic diversity of AI companies in research and academia"
   ]
  },
  {
   "cell_type": "markdown",
   "metadata": {},
   "source": [
    "## Preamble"
   ]
  },
  {
   "cell_type": "code",
   "execution_count": null,
   "metadata": {},
   "outputs": [],
   "source": [
    "%run ../notebook_preamble.ipy\n",
    "%config Completer.use_jedi = False\n",
    "\n",
    "\n",
    "pd.options.mode.chained_assignment = None "
   ]
  },
  {
   "cell_type": "code",
   "execution_count": null,
   "metadata": {},
   "outputs": [],
   "source": [
    "# Uncomment and run if you want to save figures\n",
    "# driv = altair_visualisation_setup()"
   ]
  },
  {
   "cell_type": "code",
   "execution_count": null,
   "metadata": {},
   "outputs": [],
   "source": [
    "import altair as alt\n",
    "import random\n",
    "import logging\n",
    "import yaml\n",
    "from scipy.stats import zscore\n",
    "\n",
    "from narrowing_ai_research.utils.altair_utils import *\n",
    "from narrowing_ai_research.transformers.diversity import Diversity, remove_zero_axis\n",
    "from narrowing_ai_research.paper.s7_diversity_meso import *\n",
    "\n",
    "\n",
    "alt.data_transformers.disable_max_rows()"
   ]
  },
  {
   "cell_type": "markdown",
   "metadata": {},
   "source": [
    "## 1. Read data"
   ]
  },
  {
   "cell_type": "code",
   "execution_count": null,
   "metadata": {},
   "outputs": [],
   "source": [
    "# We use the same diversity parametres as in the analysis of diversity\n",
    "with open(f\"{project_dir}/paper_config.yaml\", \"r\") as infile:\n",
    "    pars = yaml.safe_load(infile)\n",
    "\n",
    "div_params = pars[\"section_4\"][\"div_params\"]\n",
    "params = pars[\"section_7\"]"
   ]
  },
  {
   "cell_type": "code",
   "execution_count": null,
   "metadata": {},
   "outputs": [],
   "source": [
    "papers,paper_orgs,topic_mix = read_process_data()"
   ]
  },
  {
   "cell_type": "markdown",
   "metadata": {},
   "source": [
    "## 2. Analysis"
   ]
  },
  {
   "cell_type": "markdown",
   "metadata": {},
   "source": [
    "### Sector comparison"
   ]
  },
  {
   "cell_type": "code",
   "execution_count": null,
   "metadata": {},
   "outputs": [],
   "source": [
    "diversity_org_type_df = diversity_sector_comparison(paper_orgs,topic_mix,div_params,\n",
    "                                                   params['y0'])"
   ]
  },
  {
   "cell_type": "code",
   "execution_count": null,
   "metadata": {},
   "outputs": [],
   "source": [
    "make_chart_sector_comparison(diversity_org_type_df,save=False)"
   ]
  },
  {
   "cell_type": "markdown",
   "metadata": {},
   "source": [
    "### Sector comparison: Multiple runs"
   ]
  },
  {
   "cell_type": "code",
   "execution_count": null,
   "metadata": {},
   "outputs": [],
   "source": [
    "diversity_org_type_multiple = diversity_sector_comparison(\n",
    "    paper_orgs,\n",
    "    topic_mix,\n",
    "    div_params,n_runs=30,sample_size=1000)"
   ]
  },
  {
   "cell_type": "code",
   "execution_count": null,
   "metadata": {},
   "outputs": [],
   "source": [
    "make_chart_sector_boxplot(diversity_org_type_multiple)"
   ]
  },
  {
   "cell_type": "code",
   "execution_count": null,
   "metadata": {},
   "outputs": [],
   "source": []
  }
 ],
 "metadata": {
  "language_info": {
   "name": "python",
   "pygments_lexer": "ipython3"
  }
 },
 "nbformat": 4,
 "nbformat_minor": 4
}
