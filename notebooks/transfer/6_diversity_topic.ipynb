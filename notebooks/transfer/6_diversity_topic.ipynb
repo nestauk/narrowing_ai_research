{
 "cells": [
  {
   "cell_type": "markdown",
   "metadata": {},
   "source": [
    "# Diversity: topic view\n",
    "\n",
    "What topics contribute to diversity?\n",
    "\n"
   ]
  },
  {
   "cell_type": "markdown",
   "metadata": {},
   "source": [
    "## Preamble"
   ]
  },
  {
   "cell_type": "code",
   "execution_count": null,
   "metadata": {},
   "outputs": [],
   "source": [
    "%run ../notebook_preamble.ipy\n",
    "%config Completer.use_jedi = False\n",
    "\n",
    "\n",
    "pd.options.mode.chained_assignment = None "
   ]
  },
  {
   "cell_type": "code",
   "execution_count": null,
   "metadata": {},
   "outputs": [],
   "source": [
    "# Uncomment and run if you want to save figures\n",
    "# driv = altair_visualisation_setup()"
   ]
  },
  {
   "cell_type": "code",
   "execution_count": null,
   "metadata": {},
   "outputs": [],
   "source": [
    "import altair as alt\n",
    "import random\n",
    "import logging\n",
    "import yaml\n",
    "\n",
    "from narrowing_ai_research.utils.list_utils import *\n",
    "from narrowing_ai_research.utils.altair_utils import *\n",
    "from narrowing_ai_research.utils.read_utils import *\n",
    "from narrowing_ai_research.transformers.diversity import Diversity, remove_zero_axis\n",
    "from narrowing_ai_research.paper.s5_network_view import read_process_data\n",
    "\n",
    "alt.data_transformers.disable_max_rows()"
   ]
  },
  {
   "cell_type": "markdown",
   "metadata": {},
   "source": [
    "## Read data"
   ]
  },
  {
   "cell_type": "markdown",
   "metadata": {},
   "source": [
    "### Metadata"
   ]
  },
  {
   "cell_type": "code",
   "execution_count": null,
   "metadata": {},
   "outputs": [],
   "source": [
    "# We use the same diversity parametres as in the analysis of diversity\n",
    "with open(f\"{project_dir}/paper_config.yaml\",'r') as infile:\n",
    "    div_params = yaml.safe_load(infile)['section_4']['div_params']"
   ]
  },
  {
   "cell_type": "markdown",
   "metadata": {},
   "source": [
    "### Data"
   ]
  },
  {
   "cell_type": "code",
   "execution_count": null,
   "metadata": {},
   "outputs": [],
   "source": [
    "papers, topic_mix, topic_category_map, arxiv_cat_lookup = read_process_data()"
   ]
  },
  {
   "cell_type": "markdown",
   "metadata": {},
   "source": [
    "## Analysis"
   ]
  },
  {
   "cell_type": "code",
   "execution_count": null,
   "metadata": {},
   "outputs": [],
   "source": [
    "# Focus on recent AI papers\n",
    "papers_rec = papers.loc[(papers['year']>=2020)&(papers['is_ai']==True)]\n",
    "\n",
    "topics_rec = remove_zero_axis(\n",
    "    topic_mix.loc[topic_mix['article_id'].isin(set(papers_rec['article_id']))].set_index('article_id'))"
   ]
  },
  {
   "cell_type": "code",
   "execution_count": null,
   "metadata": {},
   "outputs": [],
   "source": [
    "def topic_diversity_contribution(topic_mix,metric,params,name,method='max',threshold=None):\n",
    "    '''Compares the diversity of the corpus without / without papers with a topic\n",
    "    '''\n",
    "    \n",
    "    print(params)\n",
    "    \n",
    "    d = Diversity(topic_mix,name)\n",
    "    \n",
    "    getattr(d,metric)(params)\n",
    "    \n",
    "    bench = d.metric\n",
    "    \n",
    "    if method == 'max':\n",
    "        papers_max_topic = topic_mix.idxmax(axis=1).reset_index(name='topic').groupby(\n",
    "            'topic')['article_id'].apply(lambda x: set(x))\n",
    "        \n",
    "    else:\n",
    "        paper_bin = topic_mix.applymap(lambda x: x>threshold)\n",
    "        \n",
    "    results = []\n",
    "    \n",
    "    for n,t in enumerate(topic_mix.columns):\n",
    "        if n%20==0:\n",
    "            logging.info(f\"processed {n} topics\")\n",
    "        \n",
    "        if method == 'max':\n",
    "            if t not in papers_max_topic.keys():\n",
    "                presence = 0\n",
    "                difference = 0\n",
    "            else:            \n",
    "                presence = len(papers_max_topic[t])\n",
    "                topic_mix_reduced = remove_zero_axis(\n",
    "                    topic_mix.loc[~topic_mix.index.isin(papers_max_topic[t])])\n",
    "\n",
    "                d_ = Diversity(topic_mix_reduced,name)\n",
    "\n",
    "                getattr(d_,metric)(params)\n",
    "                reduced = d_.metric            \n",
    "                difference = bench-d_.metric\n",
    "            \n",
    "        else:\n",
    "            presence = paper_bin[t].sum()\n",
    "            papers_without_topic = paper_bin.loc[paper_bin[t]==0].index\n",
    "            \n",
    "            topic_mix_reduced = remove_zero_axis(topic_mix.loc[papers_without_topic])\n",
    "\n",
    "            d_ = Diversity(topic_mix_reduced,name)\n",
    "\n",
    "            getattr(d_,metric)(params)\n",
    "            reduced = d_.metric\n",
    "            difference = bench-d_.metric\n",
    "            \n",
    "        out = pd.Series([t,presence,difference,metric,name],index=['topic','presence',\n",
    "                                                                       'div_contr','metric','parametre_set'])\n",
    "        results.append(out)\n",
    "    \n",
    "    return results"
   ]
  },
  {
   "cell_type": "code",
   "execution_count": null,
   "metadata": {},
   "outputs": [],
   "source": [
    "def topic_diversity_calculation_all(topic_mix,param_dict,method='max',threshold=None):\n",
    "    \n",
    "    all_results=[]\n",
    "        \n",
    "    for k,v in param_dict.items():\n",
    "        logging.info(k)\n",
    "        \n",
    "        for n,par in enumerate(v):\n",
    "            results = topic_diversity_contribution(topic_mix,k,par,f'param_set_{n}',\n",
    "                                                   method=method,\n",
    "                                                   threshold=threshold)\n",
    "            all_results.append(results)           \n",
    "    return all_results"
   ]
  },
  {
   "cell_type": "code",
   "execution_count": null,
   "metadata": {},
   "outputs": [],
   "source": [
    "diversity_contribution_max = topic_diversity_calculation_all(topics_rec,div_params)"
   ]
  },
  {
   "cell_type": "code",
   "execution_count": null,
   "metadata": {},
   "outputs": [],
   "source": [
    "diversity_contribution_df = pd.concat([pd.DataFrame(x) for x in diversity_contribution_max])\n",
    "diversity_contribution_df['method']='max'\n",
    "diversity_contribution_df.sort_values('presence').to_csv(\n",
    "    f\"{project_dir}/data/processed/diversity_contribution_max.csv\",index=False)"
   ]
  },
  {
   "cell_type": "code",
   "execution_count": null,
   "metadata": {},
   "outputs": [],
   "source": [
    "diversity_contribution_pres = topic_diversity_calculation_all(\n",
    "    topics_rec,div_params,method='pres',threshold=0.1)\n",
    "\n",
    "diversity_contribution_pres_df['method']='pres'\n",
    "\n",
    "# diversity_contribution_pres_df.to_csv(\n",
    "#     f\"{project_dir}/data/processed/diversity_contribution_pres.csv\",index=False)"
   ]
  },
  {
   "cell_type": "code",
   "execution_count": null,
   "metadata": {},
   "outputs": [],
   "source": []
  }
 ],
 "metadata": {
  "language_info": {
   "name": "python",
   "pygments_lexer": "ipython3"
  }
 },
 "nbformat": 4,
 "nbformat_minor": 4
}
