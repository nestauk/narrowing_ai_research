{
 "cells": [
  {
   "cell_type": "markdown",
   "metadata": {},
   "source": [
    "# Organisation exploration\n",
    "\n",
    "Here we analyse the topic specialisation profiles of different organisations\n"
   ]
  },
  {
   "cell_type": "markdown",
   "metadata": {},
   "source": [
    "## Preamble"
   ]
  },
  {
   "cell_type": "code",
   "execution_count": null,
   "metadata": {},
   "outputs": [],
   "source": [
    "%run ../notebook_preamble.ipy\n",
    "\n",
    "import altair as alt\n",
    "import yaml\n",
    "from narrowing_ai_research.utils.altair_utils import *\n",
    "from narrowing_ai_research.paper.s9_topic_comparison import *\n",
    "#from narrowing_ai_research.paper.s10_vector_embeddings import *\n",
    "\n",
    "pd.options.mode.chained_assignment = None \n",
    "%config Completer.use_jedi = False"
   ]
  },
  {
   "cell_type": "code",
   "execution_count": null,
   "metadata": {},
   "outputs": [],
   "source": [
    "# Run this if you want to save charts\n",
    "driv = altair_visualisation_setup()"
   ]
  },
  {
   "cell_type": "markdown",
   "metadata": {},
   "source": [
    "### Read data"
   ]
  },
  {
   "cell_type": "code",
   "execution_count": null,
   "metadata": {},
   "outputs": [],
   "source": [
    "papers,porgs,topic_mix,topic_category_map,arxiv_cat_lookup,topic_list = read_process_data()"
   ]
  },
  {
   "cell_type": "markdown",
   "metadata": {},
   "source": [
    "### Create comparison"
   ]
  },
  {
   "cell_type": "code",
   "execution_count": null,
   "metadata": {},
   "outputs": [],
   "source": [
    "with open(f\"{project_dir}/paper_config.yaml\", \"r\") as infile:\n",
    "        pars = yaml.safe_load(infile)[\"section_9\"]\n",
    "        \n",
    "cats = pars['categories']\n",
    "labels_to_display = pars['topic_highlights']"
   ]
  },
  {
   "cell_type": "code",
   "execution_count": null,
   "metadata": {},
   "outputs": [],
   "source": [
    "comp_ids,acad_ids = [query_orgs(porgs,\n",
    "                                'org_type',t) for t in ['Company','Education']]"
   ]
  },
  {
   "cell_type": "code",
   "execution_count": null,
   "metadata": {},
   "outputs": [],
   "source": [
    "topic_comparison_chart,comp_table = make_chart_topic_comparison(\n",
    "    topic_mix,arxiv_cat_lookup,[comp_ids,acad_ids],cats,['company','academia'],\n",
    "    highlights=True,highlight_topics=labels_to_display,topic_list=topic_list,topic_category_map=topic_category_map,\n",
    "save=False)"
   ]
  },
  {
   "cell_type": "code",
   "execution_count": null,
   "metadata": {},
   "outputs": [],
   "source": [
    "topic_comparison_chart"
   ]
  },
  {
   "cell_type": "markdown",
   "metadata": {},
   "source": [
    "### Org profiles"
   ]
  },
  {
   "cell_type": "code",
   "execution_count": null,
   "metadata": {},
   "outputs": [],
   "source": [
    "porgs_ai = porgs.query(\"is_ai==True\")\n",
    "porgs_ai['year'] = porgs_ai['date'].map(lambda x: x.year)"
   ]
  },
  {
   "cell_type": "code",
   "execution_count": null,
   "metadata": {},
   "outputs": [],
   "source": [
    "old, mid, new = [make_chart_topic_spec(porgs_ai,'year',n,\n",
    "                                       topic_category_map,\n",
    "                                       cats,topic_mix) for n in [2018,2019,2020]]"
   ]
  },
  {
   "cell_type": "code",
   "execution_count": null,
   "metadata": {},
   "outputs": [],
   "source": [
    "save_altair((alt.hconcat(old,mid,new,\n",
    "             title='Topic specialisation by year').configure_facet(spacing=0)\n",
    " .resolve_scale(y='shared')\n",
    " .configure_view(stroke=None)\n",
    " .configure_axis(labelFontSize=12, titleFontSize=12)),'trend_chart',driver=driv)\n",
    "\n"
   ]
  },
  {
   "cell_type": "code",
   "execution_count": null,
   "metadata": {},
   "outputs": [],
   "source": [
    "us,china,fr,canada,germany = [make_chart_topic_spec(porgs_ai,'institute_country',n,\n",
    "                                       topic_category_map,\n",
    "                                       cats,topic_mix) for n in [\"United States\",\"China\",\n",
    "                                                                 \"France\",\"Canada\",\"Germany\"]]"
   ]
  },
  {
   "cell_type": "code",
   "execution_count": null,
   "metadata": {},
   "outputs": [],
   "source": [
    "(alt.hconcat(us,china,fr,canada,germany,\n",
    "             title='Topic specialisation by year').configure_facet(spacing=0)\n",
    " .resolve_scale(y='shared')\n",
    " .configure_view(stroke=None)\n",
    " .configure_axis(labelFontSize=12, titleFontSize=12))"
   ]
  },
  {
   "cell_type": "markdown",
   "metadata": {},
   "source": [
    "## Another strategy for visualisation"
   ]
  },
  {
   "cell_type": "code",
   "execution_count": null,
   "metadata": {},
   "outputs": [],
   "source": [
    "def make_topic_rep_df(data, variable, value, topic_category_map, cats, topic_mix, ordered_cats=[]):\n",
    "    \n",
    "    logging.info(f\"Extracting IDs {value}\")\n",
    "    _ids = set(data.loc[data[variable] == value][\"article_id\"])\n",
    "\n",
    "    rep = (\n",
    "        topic_rep(_ids, topic_mix, cats, topic_mix.columns, topic_category_map)[0]\n",
    "        .dropna()\n",
    "        .reset_index(drop=True))\n",
    "    \n",
    "    rep[variable]=value\n",
    "    return rep"
   ]
  },
  {
   "cell_type": "code",
   "execution_count": null,
   "metadata": {},
   "outputs": [],
   "source": [
    "countries = ['United States','China','United Kingdom',\n",
    "                                               'Australia','Germany',\n",
    "                                               'Canada']"
   ]
  },
  {
   "cell_type": "code",
   "execution_count": null,
   "metadata": {},
   "outputs": [],
   "source": [
    "c = pd.concat([make_topic_rep_df(porgs_ai,'institute_country',c,topic_category_map,\n",
    "                     cats,topic_mix) for c in countries]).reset_index(drop=True)"
   ]
  },
  {
   "cell_type": "code",
   "execution_count": null,
   "metadata": {},
   "outputs": [],
   "source": [
    "ordered_cats = c.groupby('cat_sel')['levels'].sum().sort_values(ascending=False).index.tolist()\n",
    "\n",
    "c['centre']=0\n",
    "c['ruler_2']=0\n",
    "\n",
    "c = c.loc[c['ratio']<10]\n",
    "\n",
    "cat_mean_status = (c.groupby(['cat_sel','institute_country'])['ratio'].mean()>0).to_dict()\n",
    "\n",
    "c['ruler_color'] = [\"High\" if cat_mean_status[(x.cat_sel,x.institute_country)] is True else \"Low\" for\n",
    "                   rid,x in c.iterrows()]\n",
    "c['width'] = 10\n",
    "c['long_names'] = [arxiv_cat_lookup[x][:35]+'...' for x in c['cat_sel']]\n",
    "\n",
    "ordered_cat_names = [arxiv_cat_lookup[x][:35]+'...' for x in ordered_cats]"
   ]
  },
  {
   "cell_type": "code",
   "execution_count": null,
   "metadata": {},
   "outputs": [],
   "source": [
    "strip = (\n",
    "        alt.Chart()\n",
    "        .mark_circle(size=14, stroke=\"grey\", strokeWidth=0.5)\n",
    "        .encode(\n",
    "            x=alt.X(\n",
    "                \"jitter:Q\",\n",
    "                title=None,\n",
    "                axis=alt.Axis(values=[0], ticks=True, grid=False, labels=False),\n",
    "                scale=alt.Scale(),\n",
    "            ),\n",
    "            y=alt.Y(\"ratio:Q\", title=\"Specialisation\",axis=alt.Axis(grid=True)),\n",
    "            size=alt.Size(\n",
    "                \"levels\",\n",
    "                title=[\"Number\", \"of papers\"],\n",
    "            ),\n",
    "            color=alt.Color(\n",
    "                \"long_names:N\", scale=alt.Scale(scheme=\"tableau20\"),title='arXiv categories',\n",
    "                sort=ordered_cat_names\n",
    "            ),\n",
    "            opacity=alt.Opacity(\"ratio:Q\", legend=None),\n",
    "            tooltip=[\"index\",\"cat_sel\"])\n",
    "    .transform_calculate(\n",
    "        jitter=\"sqrt(-2*log(random()))*cos(2*PI*random())\"\n",
    "        ))\n",
    "\n",
    "ruler_1 = (\n",
    "    alt.Chart()\n",
    "    .mark_tick(strokeWidth=2)\n",
    "    .encode(\n",
    "        x=alt.X('centre'),\n",
    "        y='mean(ratio)',\n",
    "        stroke=alt.Stroke('ruler_color',scale=alt.Scale(range=['red','blue']),title=['Average','specialisation']),\n",
    "        ))\n",
    "\n",
    "country_chart = (alt.layer(strip+ruler_1,\n",
    "           data=c)\n",
    " .properties(width=15,height=150)\n",
    " .facet(\n",
    "     column=alt.Column('cat_sel',sort=ordered_cats,title='arXiv category'\n",
    "                      # header=alt.Header(labelAngle=90,labelAlign='left')\n",
    "                      ),\n",
    "     row=alt.Row('institute_country',sort=countries,\n",
    "                title='Country'))).configure_facet(spacing=15).configure_view(\n",
    "    stroke=None).configure_axis(grid=False)"
   ]
  },
  {
   "cell_type": "code",
   "execution_count": null,
   "metadata": {},
   "outputs": [],
   "source": [
    "save_altair(country_chart,'country_profiles_comparison',driv,fig_path)"
   ]
  },
  {
   "cell_type": "code",
   "execution_count": null,
   "metadata": {},
   "outputs": [],
   "source": [
    "country_chart"
   ]
  },
  {
   "cell_type": "code",
   "execution_count": null,
   "metadata": {},
   "outputs": [],
   "source": []
  }
 ],
 "metadata": {
  "language_info": {
   "name": "python",
   "pygments_lexer": "ipython3"
  }
 },
 "nbformat": 4,
 "nbformat_minor": 4
}
