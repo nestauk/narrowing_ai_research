{
 "cells": [
  {
   "cell_type": "markdown",
   "metadata": {},
   "source": [
    "# Diversity: topic view\n",
    "\n",
    "What topics contribute to diversity?\n",
    "\n"
   ]
  },
  {
   "cell_type": "markdown",
   "metadata": {},
   "source": [
    "## Preamble"
   ]
  },
  {
   "cell_type": "code",
   "execution_count": null,
   "metadata": {},
   "outputs": [],
   "source": [
    "%run ../notebook_preamble.ipy\n",
    "%config Completer.use_jedi = False\n",
    "\n",
    "\n",
    "pd.options.mode.chained_assignment = None "
   ]
  },
  {
   "cell_type": "code",
   "execution_count": null,
   "metadata": {},
   "outputs": [],
   "source": [
    "# Uncomment and run if you want to save figures\n",
    "# driv = altair_visualisation_setup()"
   ]
  },
  {
   "cell_type": "code",
   "execution_count": null,
   "metadata": {},
   "outputs": [],
   "source": [
    "import altair as alt\n",
    "import random\n",
    "import logging\n",
    "import yaml\n",
    "from scipy.stats import zscore\n",
    "\n",
    "from narrowing_ai_research.utils.list_utils import *\n",
    "from narrowing_ai_research.utils.altair_utils import *\n",
    "from narrowing_ai_research.utils.read_utils import *\n",
    "from narrowing_ai_research.transformers.diversity import Diversity, remove_zero_axis\n",
    "from narrowing_ai_research.paper.s5_network_view import read_process_data\n",
    "from narrowing_ai_research.paper.s9_topic_comparison import topic_rep\n",
    "from narrowing_ai_research.paper.make_topic_diversity_contribution import *\n",
    "\n",
    "\n",
    "alt.data_transformers.disable_max_rows()"
   ]
  },
  {
   "cell_type": "markdown",
   "metadata": {},
   "source": [
    "## Read data"
   ]
  },
  {
   "cell_type": "code",
   "execution_count": null,
   "metadata": {},
   "outputs": [],
   "source": [
    "with open(f\"{project_dir}/paper_config.yaml\",'r') as infile:\n",
    "    cats = yaml.safe_load(infile)['section_9']['categories']"
   ]
  },
  {
   "cell_type": "markdown",
   "metadata": {},
   "source": [
    "### Metadata"
   ]
  },
  {
   "cell_type": "code",
   "execution_count": null,
   "metadata": {},
   "outputs": [],
   "source": [
    "# # We use the same diversity parametres as in the analysis of diversity\n",
    "# with open(f\"{project_dir}/paper_config.yaml\",'r') as infile:\n",
    "#     div_params = yaml.safe_load(infile)['section_4']['div_params']"
   ]
  },
  {
   "cell_type": "markdown",
   "metadata": {},
   "source": [
    "### Data"
   ]
  },
  {
   "cell_type": "code",
   "execution_count": null,
   "metadata": {},
   "outputs": [],
   "source": [
    "papers = read_papers()\n",
    "papers_orgs = paper_orgs_processing(read_papers_orgs(),papers)\n",
    "arxiv_categories = read_arxiv_cat_lookup()\n",
    "topic_category_map = read_topic_category_map()"
   ]
  },
  {
   "cell_type": "code",
   "execution_count": null,
   "metadata": {},
   "outputs": [],
   "source": [
    "topic_mix = read_topic_mix().set_index('article_id')"
   ]
  },
  {
   "cell_type": "code",
   "execution_count": null,
   "metadata": {},
   "outputs": [],
   "source": [
    "div_contr = pd.read_csv(f\"{project_dir}/data/processed/diversity_contribution.csv\")"
   ]
  },
  {
   "cell_type": "code",
   "execution_count": null,
   "metadata": {},
   "outputs": [],
   "source": [
    "papers_orgs['year'] = [x.year for x in papers_orgs['date']]"
   ]
  },
  {
   "cell_type": "markdown",
   "metadata": {},
   "source": [
    "## Analysis"
   ]
  },
  {
   "cell_type": "code",
   "execution_count": null,
   "metadata": {},
   "outputs": [],
   "source": [
    "#div_contr['category'] = div_contr['topic'].map(topic_category_map)"
   ]
  },
  {
   "cell_type": "code",
   "execution_count": null,
   "metadata": {},
   "outputs": [],
   "source": [
    "pset = 'param_set_1'\n",
    "var = 'balance'\n",
    "\n",
    "pres= (div_contr\n",
    "       .query(\"diversity_contribution_method == 'presence'\")\n",
    "       .query(f\"metric == '{var}'\")).pivot_table(\n",
    "    index=['topic'],columns=['parametre_set'],values='div_contr').apply(\n",
    "    zscore).reset_index(drop=False)[['topic',pset]].sort_values(pset,\n",
    "                                                                         ascending=False).reset_index(drop=True)"
   ]
  },
  {
   "cell_type": "code",
   "execution_count": null,
   "metadata": {},
   "outputs": [],
   "source": [
    "# Recent papers\n",
    "paper_orgs_rec = papers_orgs.loc[papers_orgs['year']>=2019].query(\"is_ai==True\")\n",
    "\n",
    "topics_rec = topic_mix.loc[topic_mix.index.isin(set(paper_orgs_rec['article_id']))]\n",
    "\n",
    "# Topic distribution (all)\n",
    "paper_counts_all = topics_rec.idxmax(axis=1).value_counts().to_dict()\n",
    "\n",
    "# Topic_distribution (corporates and academic)\n",
    "paper_counts_ac,paper_counts_corp = [\n",
    "    topic_mix.loc[\n",
    "        topic_mix.index.isin(\n",
    "            set(paper_orgs_rec.query(f\"org_type=='{org}'\")[\n",
    "                'article_id']))].idxmax(axis=1).value_counts().to_dict() for org in\n",
    "    ['Education','Company']]"
   ]
  },
  {
   "cell_type": "code",
   "execution_count": null,
   "metadata": {},
   "outputs": [],
   "source": [
    "# Topic distribution (top / bottom distr)\n",
    "papers_orgs_quant = paper_orgs_rec.query(\"is_ai==True\")['org_name'].value_counts(\n",
    ").reset_index(name='count').query(\"count>10\").assign(rank = lambda x: pd.qcut(x['count'],\n",
    "                                                                             q=np.arange(0,1.1,0.2),\n",
    "                                                                             labels=False,\n",
    "                                                           duplicates='drop'))\n",
    "\n",
    "papers_orgs_quant_top,papers_orgs_quant_bot = [\n",
    "    topic_mix.loc[\n",
    "        topic_mix.index.isin(\n",
    "            set(paper_orgs_rec.loc[\n",
    "                paper_orgs_rec['org_name'].isin(\n",
    "                    set(\n",
    "                        papers_orgs_quant.query(f\"rank=={q}\")['index']))]['article_id']))\n",
    "    ].idxmax(axis=1).value_counts().to_dict() for q in [4,0]]\n",
    "\n",
    "pres['category'] = pres['topic'].map(topic_category_map).dropna()\n",
    "\n",
    "names = ['all','academic','corporate','top_quartile','bottom_quartile']\n",
    "\n",
    "for n,d in zip(names,[paper_counts_all,paper_counts_ac,paper_counts_corp,papers_orgs_quant_top,papers_orgs_quant_bot]\n",
    "              ):\n",
    "    pres[n] = pres['topic'].map(d).fillna(0)\n",
    "    pres[n] = (pres[n]/pres[n].sum()).cumsum()\n",
    "    \n",
    "pres['order'] = np.arange(0,len(pres))\n",
    "\n",
    "pres_cumul = pres[['order']+names].melt(id_vars='order',var_name='variable')\n",
    "\n",
    "pres['category'] = pres['topic'].map(topic_category_map).dropna()\n",
    "\n",
    "names = ['all','academic','corporate','top_quartile','bottom_quartile']\n",
    "\n",
    "for n,d in zip(names,[paper_counts_all,paper_counts_ac,paper_counts_corp,papers_orgs_quant_top,papers_orgs_quant_bot]\n",
    "              ):\n",
    "    pres[n] = pres['topic'].map(d).fillna(0)\n",
    "    pres[n] = (pres[n]/pres[n].sum()).cumsum()\n",
    "    \n",
    "pres['order'] = np.arange(0,len(pres))\n",
    "\n",
    "pres_cumul = pres[['order']+names].melt(id_vars='order',var_name='variable')\n",
    "\n"
   ]
  },
  {
   "cell_type": "code",
   "execution_count": null,
   "metadata": {},
   "outputs": [],
   "source": [
    "div = (alt\n",
    " .Chart(pres)\n",
    " .mark_bar()\n",
    " .encode(x=alt.X('topic',axis=alt.Axis(labels=False,ticks=False),\n",
    "                 sort=alt.EncodingSortField(pset,order='descending')),\n",
    "        y=pset,color=alt.Color('category',\n",
    "                                       sort=alt.EncodingSortField(\n",
    "                                           pset,\n",
    "                                           op='mean',\n",
    "                                           order='descending'),\n",
    "                                       legend=alt.Legend(columns=2)),\n",
    "                                        tooltip=['topic'])).properties(width=400,height=200)\n",
    "\n",
    "contr = (alt.Chart(pres_cumul)\n",
    " .mark_line()\n",
    " .encode(x=alt.X('order',scale=alt.Scale(domain=[0,550]),axis=alt.Axis(grid=False)),\n",
    "        y='value',\n",
    "        color='variable')).properties(width=400,height=200)\n",
    "\n",
    "alt.vconcat(div,contr).resolve_scale(color='independent')"
   ]
  },
  {
   "cell_type": "markdown",
   "metadata": {},
   "source": [
    "### Org profiles"
   ]
  },
  {
   "cell_type": "code",
   "execution_count": null,
   "metadata": {},
   "outputs": [],
   "source": [
    "papers_orgs_ai = papers_orgs.query(\"is_ai==True\")"
   ]
  },
  {
   "cell_type": "code",
   "execution_count": null,
   "metadata": {},
   "outputs": [],
   "source": [
    "ordered_cats = topic_mix.applymap(lambda x: x>0).sum()"
   ]
  },
  {
   "cell_type": "code",
   "execution_count": null,
   "metadata": {},
   "outputs": [],
   "source": [
    "my_ordered_cats = ordered_cats.reset_index(name='count').assign(\n",
    "    cat = lambda x: x['index'].map(topic_category_map)).groupby('cat')['count'].mean().sort_values(\n",
    "    ascending=False).index.tolist()"
   ]
  },
  {
   "cell_type": "code",
   "execution_count": null,
   "metadata": {},
   "outputs": [],
   "source": [
    "def strip_plot(df,ordered_cats,name):\n",
    "    stripplot = (\n",
    "        alt.Chart(df)\n",
    "        .mark_circle(size=14,stroke='grey',strokeWidth=0.5).encode(\n",
    "            x=alt.X(\n",
    "                'jitter:Q',\n",
    "                title=None,\n",
    "                axis=alt.Axis(values=[0], ticks=True, grid=False, labels=False),\n",
    "                scale=alt.Scale()),\n",
    "            y=alt.Y('ratio:Q',title='Specialisation'),\n",
    "            tooltip=['index'],\n",
    "            size=alt.Size('levels',title=['Number', 'of papers'],\n",
    "                        #scale=alt.Scale(type='log')\n",
    "                         ),\n",
    "            color=alt.Color('cat_sel:N', legend=None,scale=alt.Scale(scheme='tableau10')),\n",
    "            column=alt.Column(\n",
    "                'cat_sel:N',\n",
    "                title='arXiv category',\n",
    "                sort=ordered_cats,\n",
    "                header=alt.Header(\n",
    "                    labelFontSize=12,\n",
    "                    labelAngle=270,\n",
    "                    titleOrient='top',\n",
    "                    labelOrient='bottom',\n",
    "                    labelAlign='center',\n",
    "                    labelPadding=25)))\n",
    "        .transform_calculate(\n",
    "        # Generate Gaussian jitter with a Box-Muller transform\n",
    "            jitter='sqrt(-2*log(random()))*cos(2*PI*random())')\n",
    "#         .transform_filter(\n",
    "#             alt.datum.levels > 0)  \n",
    "        .configure_facet(\n",
    "            spacing=0)\n",
    "        .configure_view(\n",
    "            stroke=None)\n",
    "        .configure_axis(\n",
    "            labelFontSize=12,\n",
    "            titleFontSize=12)\n",
    "        .properties(title=name,width=10,height=200))\n",
    "    \n",
    "    return stripplot\n",
    "    "
   ]
  },
  {
   "cell_type": "code",
   "execution_count": null,
   "metadata": {},
   "outputs": [],
   "source": [
    "def make_chart_topic_spec(data,variable,value,ordered_cats=[]):\n",
    "    '''\n",
    "    '''\n",
    "    logging.info(f\"Extracting IDs {value}\")\n",
    "    _ids = set(papers_orgs_ai.loc[papers_orgs_ai[variable]==value]['article_id'])\n",
    "\n",
    "    rep = topic_rep(_ids,topic_mix,cats,\n",
    "                    topic_mix.columns,topic_category_map)[0].dropna().reset_index(drop=True)\n",
    "    \n",
    "    if len(ordered_cats)==0:\n",
    "        ordered_cats = rep.groupby(\n",
    "            'cat_sel')['levels'].sum().sort_values(ascending=False).index.tolist()    \n",
    "    \n",
    "    \n",
    "    logging.info(\"Plotting\")\n",
    "    plot = strip_plot(rep,ordered_cats,value)\n",
    "    \n",
    "    return plot\n",
    "    \n"
   ]
  },
  {
   "cell_type": "code",
   "execution_count": null,
   "metadata": {},
   "outputs": [],
   "source": [
    "c, a, g, m = [make_chart_topic_spec(paper_orgs_ai,v,n) for v,n in zip(['org_type','org_type',\n",
    "                                                                   'org_name','org_name'],\n",
    "                                                                   ['Company','Education',\n",
    "                                                                   'Google',\n",
    "                                                                   'Massachusetts Institute of Technology'])]"
   ]
  },
  {
   "cell_type": "code",
   "execution_count": null,
   "metadata": {},
   "outputs": [],
   "source": [
    "c"
   ]
  },
  {
   "cell_type": "code",
   "execution_count": null,
   "metadata": {},
   "outputs": [],
   "source": [
    "a"
   ]
  },
  {
   "cell_type": "code",
   "execution_count": null,
   "metadata": {},
   "outputs": [],
   "source": [
    "g"
   ]
  },
  {
   "cell_type": "code",
   "execution_count": null,
   "metadata": {},
   "outputs": [],
   "source": [
    "m"
   ]
  },
  {
   "cell_type": "code",
   "execution_count": null,
   "metadata": {},
   "outputs": [],
   "source": []
  }
 ],
 "metadata": {
  "language_info": {
   "name": "python",
   "pygments_lexer": "ipython3"
  }
 },
 "nbformat": 4,
 "nbformat_minor": 4
}
